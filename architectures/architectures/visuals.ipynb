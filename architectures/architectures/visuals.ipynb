{
 "cells": [
  {
   "cell_type": "markdown",
   "id": "75b6b217-1890-40ba-8b62-7f09328e8001",
   "metadata": {},
   "source": [
    "# Visuals\n",
    "\n"
   ]
  },
  {
   "cell_type": "markdown",
   "id": "a2c96961-db13-4da4-8710-1eb5dd13457c",
   "metadata": {},
   "source": [
    "---\n",
    "## Colors"
   ]
  },
  {
   "cell_type": "code",
   "execution_count": 1,
   "id": "f277cecb-98f3-4a6a-a4a1-35798cf2792f",
   "metadata": {},
   "outputs": [],
   "source": [
    "gcolors = dict(\n",
    "    blue = ['#E8F0FE','#D2E3FC','#AECBFA','#8AB4F8','#669DF6','#4285F4','#1A73E8','#1967D2','#185ABC','#174EA6'],\n",
    "    red = ['#FCE8E6','#FAD2CF','#F6AEA9','#F28B82','#EE675C','#EA4335','#D93025','#C5221F','#B31412','#A50E0E'],\n",
    "    yellow = ['#FEF7E0','#FEEFC3','#FDE293','#FDD663','#FCC934','#FBBC04','#F9AB00','#F29900','#EA8600','#E37400'],\n",
    "    green = ['#E6F4EA','#CEEAD6','#A8DAB5','#81C995','#5BB974','#34A853','#1E8E3E','#188038','#137333','#0D652D'],\n",
    "    grey = ['#F8F9FA','#F1F3F4','#E8EAED','#DADCE0','#BDC1C6','#9AA0A6','#80868B','#5F6368','#3C4043','#202124']\n",
    ")"
   ]
  },
  {
   "cell_type": "code",
   "execution_count": 2,
   "id": "65720c12-f4ee-4ad4-a47e-f5bdac6c836e",
   "metadata": {},
   "outputs": [
    {
     "data": {
      "text/markdown": [
       "<span style=\"font-family: monospace\"><span style=\"color: #E8F0FE\">Vertex AI</span></span> <span style=\"font-family: monospace\"><span style=\"color: #D2E3FC\">Vertex AI</span></span> <span style=\"font-family: monospace\"><span style=\"color: #AECBFA\">Vertex AI</span></span> <span style=\"font-family: monospace\"><span style=\"color: #8AB4F8\">Vertex AI</span></span> <span style=\"font-family: monospace\"><span style=\"color: #669DF6\">Vertex AI</span></span> <span style=\"font-family: monospace\"><span style=\"color: #4285F4\">Vertex AI</span></span> <span style=\"font-family: monospace\"><span style=\"color: #1A73E8\">Vertex AI</span></span> <span style=\"font-family: monospace\"><span style=\"color: #1967D2\">Vertex AI</span></span> <span style=\"font-family: monospace\"><span style=\"color: #185ABC\">Vertex AI</span></span> <span style=\"font-family: monospace\"><span style=\"color: #174EA6\">Vertex AI</span></span>"
      ],
      "text/plain": [
       "<IPython.core.display.Markdown object>"
      ]
     },
     "metadata": {},
     "output_type": "display_data"
    },
    {
     "data": {
      "text/markdown": [
       "<span style=\"font-family: monospace\"><span style=\"color: #FCE8E6\">Vertex AI</span></span> <span style=\"font-family: monospace\"><span style=\"color: #FAD2CF\">Vertex AI</span></span> <span style=\"font-family: monospace\"><span style=\"color: #F6AEA9\">Vertex AI</span></span> <span style=\"font-family: monospace\"><span style=\"color: #F28B82\">Vertex AI</span></span> <span style=\"font-family: monospace\"><span style=\"color: #EE675C\">Vertex AI</span></span> <span style=\"font-family: monospace\"><span style=\"color: #EA4335\">Vertex AI</span></span> <span style=\"font-family: monospace\"><span style=\"color: #D93025\">Vertex AI</span></span> <span style=\"font-family: monospace\"><span style=\"color: #C5221F\">Vertex AI</span></span> <span style=\"font-family: monospace\"><span style=\"color: #B31412\">Vertex AI</span></span> <span style=\"font-family: monospace\"><span style=\"color: #A50E0E\">Vertex AI</span></span>"
      ],
      "text/plain": [
       "<IPython.core.display.Markdown object>"
      ]
     },
     "metadata": {},
     "output_type": "display_data"
    },
    {
     "data": {
      "text/markdown": [
       "<span style=\"font-family: monospace\"><span style=\"color: #FEF7E0\">Vertex AI</span></span> <span style=\"font-family: monospace\"><span style=\"color: #FEEFC3\">Vertex AI</span></span> <span style=\"font-family: monospace\"><span style=\"color: #FDE293\">Vertex AI</span></span> <span style=\"font-family: monospace\"><span style=\"color: #FDD663\">Vertex AI</span></span> <span style=\"font-family: monospace\"><span style=\"color: #FCC934\">Vertex AI</span></span> <span style=\"font-family: monospace\"><span style=\"color: #FBBC04\">Vertex AI</span></span> <span style=\"font-family: monospace\"><span style=\"color: #F9AB00\">Vertex AI</span></span> <span style=\"font-family: monospace\"><span style=\"color: #F29900\">Vertex AI</span></span> <span style=\"font-family: monospace\"><span style=\"color: #EA8600\">Vertex AI</span></span> <span style=\"font-family: monospace\"><span style=\"color: #E37400\">Vertex AI</span></span>"
      ],
      "text/plain": [
       "<IPython.core.display.Markdown object>"
      ]
     },
     "metadata": {},
     "output_type": "display_data"
    },
    {
     "data": {
      "text/markdown": [
       "<span style=\"font-family: monospace\"><span style=\"color: #E6F4EA\">Vertex AI</span></span> <span style=\"font-family: monospace\"><span style=\"color: #CEEAD6\">Vertex AI</span></span> <span style=\"font-family: monospace\"><span style=\"color: #A8DAB5\">Vertex AI</span></span> <span style=\"font-family: monospace\"><span style=\"color: #81C995\">Vertex AI</span></span> <span style=\"font-family: monospace\"><span style=\"color: #5BB974\">Vertex AI</span></span> <span style=\"font-family: monospace\"><span style=\"color: #34A853\">Vertex AI</span></span> <span style=\"font-family: monospace\"><span style=\"color: #1E8E3E\">Vertex AI</span></span> <span style=\"font-family: monospace\"><span style=\"color: #188038\">Vertex AI</span></span> <span style=\"font-family: monospace\"><span style=\"color: #137333\">Vertex AI</span></span> <span style=\"font-family: monospace\"><span style=\"color: #0D652D\">Vertex AI</span></span>"
      ],
      "text/plain": [
       "<IPython.core.display.Markdown object>"
      ]
     },
     "metadata": {},
     "output_type": "display_data"
    },
    {
     "data": {
      "text/markdown": [
       "<span style=\"font-family: monospace\"><span style=\"color: #F8F9FA\">Vertex AI</span></span> <span style=\"font-family: monospace\"><span style=\"color: #F1F3F4\">Vertex AI</span></span> <span style=\"font-family: monospace\"><span style=\"color: #E8EAED\">Vertex AI</span></span> <span style=\"font-family: monospace\"><span style=\"color: #DADCE0\">Vertex AI</span></span> <span style=\"font-family: monospace\"><span style=\"color: #BDC1C6\">Vertex AI</span></span> <span style=\"font-family: monospace\"><span style=\"color: #9AA0A6\">Vertex AI</span></span> <span style=\"font-family: monospace\"><span style=\"color: #80868B\">Vertex AI</span></span> <span style=\"font-family: monospace\"><span style=\"color: #5F6368\">Vertex AI</span></span> <span style=\"font-family: monospace\"><span style=\"color: #3C4043\">Vertex AI</span></span> <span style=\"font-family: monospace\"><span style=\"color: #202124\">Vertex AI</span></span>"
      ],
      "text/plain": [
       "<IPython.core.display.Markdown object>"
      ]
     },
     "metadata": {},
     "output_type": "display_data"
    }
   ],
   "source": [
    "import IPython\n",
    "def colorer(scheme, text):\n",
    "    for colors in scheme.keys():\n",
    "        IPython.display.display(\n",
    "            IPython.display.Markdown(\n",
    "                ' '.join(\n",
    "                    f'<span style=\"font-family: monospace\"><span style=\"color: {color}\">{text}</span></span>'\n",
    "                    for color in scheme[colors]\n",
    "                )\n",
    "            )\n",
    "        )\n",
    "colorer(gcolors, 'Vertex AI')"
   ]
  },
  {
   "cell_type": "markdown",
   "id": "19076e2f-f7dc-49b2-9bec-8b9f9488ec19",
   "metadata": {},
   "source": [
    "---\n",
    "## Graphviz\n",
    "\n",
    "Use [graphviz](https://graphviz.readthedocs.io/en/stable/manual.html).\n",
    "- Which is a python interface to [Graphviz](https://www.graphviz.org/)\n",
    "    - Which uses an abstract languaged called [Dot Language](https://www.graphviz.org/doc/info/lang.html)"
   ]
  },
  {
   "cell_type": "code",
   "execution_count": 9,
   "id": "a057ea4b-6ec8-4d02-ab01-f2ffe6b047a9",
   "metadata": {},
   "outputs": [],
   "source": [
    "#!sudo apt-get -qq install graphviz"
   ]
  },
  {
   "cell_type": "code",
   "execution_count": 11,
   "id": "03bb4a53-8f69-4b44-b8ef-b5591eae7af9",
   "metadata": {},
   "outputs": [],
   "source": [
    "#!pip install graphviz -q -U"
   ]
  },
  {
   "cell_type": "code",
   "execution_count": 12,
   "id": "6aecf27b-a56e-499e-b18b-e5fc5a36c4fd",
   "metadata": {},
   "outputs": [],
   "source": [
    "import graphviz\n",
    "from IPython.display import Image"
   ]
  },
  {
   "cell_type": "markdown",
   "id": "c1ff4037-eb21-44b2-800f-4b68b5106d48",
   "metadata": {},
   "source": [
    "---\n",
    "## Example"
   ]
  },
  {
   "cell_type": "code",
   "execution_count": 13,
   "id": "3c003da6-5ee6-4732-9756-cb7e400c3614",
   "metadata": {},
   "outputs": [
    {
     "data": {
      "image/svg+xml": [
       "<?xml version=\"1.0\" encoding=\"UTF-8\" standalone=\"no\"?>\n",
       "<!DOCTYPE svg PUBLIC \"-//W3C//DTD SVG 1.1//EN\"\n",
       " \"http://www.w3.org/Graphics/SVG/1.1/DTD/svg11.dtd\">\n",
       "<!-- Generated by graphviz version 2.43.0 (0)\n",
       " -->\n",
       "<!-- Title: %3 Pages: 1 -->\n",
       "<svg width=\"134pt\" height=\"188pt\"\n",
       " viewBox=\"0.00 0.00 134.00 188.00\" xmlns=\"http://www.w3.org/2000/svg\" xmlns:xlink=\"http://www.w3.org/1999/xlink\">\n",
       "<g id=\"graph0\" class=\"graph\" transform=\"scale(1 1) rotate(0) translate(4 184)\">\n",
       "<title>%3</title>\n",
       "<polygon fill=\"white\" stroke=\"transparent\" points=\"-4,4 -4,-184 130,-184 130,4 -4,4\"/>\n",
       "<!-- 1 -->\n",
       "<g id=\"node1\" class=\"node\">\n",
       "<title>1</title>\n",
       "<ellipse fill=\"none\" stroke=\"black\" cx=\"63\" cy=\"-162\" rx=\"27\" ry=\"18\"/>\n",
       "<text text-anchor=\"middle\" x=\"63\" y=\"-158.3\" font-family=\"Times,serif\" font-size=\"14.00\">1</text>\n",
       "</g>\n",
       "<!-- 3 -->\n",
       "<g id=\"node2\" class=\"node\">\n",
       "<title>3</title>\n",
       "<ellipse fill=\"none\" stroke=\"black\" cx=\"27\" cy=\"-90\" rx=\"27\" ry=\"18\"/>\n",
       "<text text-anchor=\"middle\" x=\"27\" y=\"-86.3\" font-family=\"Times,serif\" font-size=\"14.00\">3</text>\n",
       "</g>\n",
       "<!-- 1&#45;&gt;3 -->\n",
       "<g id=\"edge2\" class=\"edge\">\n",
       "<title>1&#45;&gt;3</title>\n",
       "<path fill=\"none\" stroke=\"black\" d=\"M54.65,-144.76C50.29,-136.28 44.85,-125.71 39.96,-116.2\"/>\n",
       "<polygon fill=\"black\" stroke=\"black\" points=\"42.99,-114.44 35.3,-107.15 36.77,-117.64 42.99,-114.44\"/>\n",
       "</g>\n",
       "<!-- 2 -->\n",
       "<g id=\"node3\" class=\"node\">\n",
       "<title>2</title>\n",
       "<ellipse fill=\"none\" stroke=\"black\" cx=\"99\" cy=\"-90\" rx=\"27\" ry=\"18\"/>\n",
       "<text text-anchor=\"middle\" x=\"99\" y=\"-86.3\" font-family=\"Times,serif\" font-size=\"14.00\">2</text>\n",
       "</g>\n",
       "<!-- 1&#45;&gt;2 -->\n",
       "<g id=\"edge1\" class=\"edge\">\n",
       "<title>1&#45;&gt;2</title>\n",
       "<path fill=\"none\" stroke=\"black\" d=\"M71.35,-144.76C75.71,-136.28 81.15,-125.71 86.04,-116.2\"/>\n",
       "<polygon fill=\"black\" stroke=\"black\" points=\"89.23,-117.64 90.7,-107.15 83.01,-114.44 89.23,-117.64\"/>\n",
       "</g>\n",
       "<!-- 5 -->\n",
       "<g id=\"node4\" class=\"node\">\n",
       "<title>5</title>\n",
       "<ellipse fill=\"none\" stroke=\"black\" cx=\"27\" cy=\"-18\" rx=\"27\" ry=\"18\"/>\n",
       "<text text-anchor=\"middle\" x=\"27\" y=\"-14.3\" font-family=\"Times,serif\" font-size=\"14.00\">5</text>\n",
       "</g>\n",
       "<!-- 3&#45;&gt;5 -->\n",
       "<g id=\"edge3\" class=\"edge\">\n",
       "<title>3&#45;&gt;5</title>\n",
       "<path fill=\"none\" stroke=\"black\" d=\"M27,-71.7C27,-63.98 27,-54.71 27,-46.11\"/>\n",
       "<polygon fill=\"black\" stroke=\"black\" points=\"30.5,-46.1 27,-36.1 23.5,-46.1 30.5,-46.1\"/>\n",
       "</g>\n",
       "</g>\n",
       "</svg>\n"
      ],
      "text/plain": [
       "<graphviz.graphs.Digraph at 0x7f61da9239d0>"
      ]
     },
     "execution_count": 13,
     "metadata": {},
     "output_type": "execute_result"
    }
   ],
   "source": [
    "# Create Digraph object\n",
    "dot = graphviz.Digraph()\n",
    "\n",
    "# Add nodes\n",
    "dot.node('1')\n",
    "dot.node('3')\n",
    "dot.node('2')\n",
    "dot.node('5')\n",
    "\n",
    "# Add edges\n",
    "dot.edges(['12', '13', '35'])\n",
    "\n",
    "# save to file\n",
    "dot.render(filename = 'dot', directory = './images', format = 'png')\n",
    "\n",
    "# Visualize the graph in notebook\n",
    "dot"
   ]
  },
  {
   "cell_type": "code",
   "execution_count": 5,
   "id": "309d5e6e-bd18-4da3-bdaf-1f3fc1f78275",
   "metadata": {},
   "outputs": [
    {
     "data": {
      "image/png": "[encoded data removed]",
      "text/plain": [
       "<IPython.core.display.Image object>"
      ]
     },
     "execution_count": 5,
     "metadata": {},
     "output_type": "execute_result"
    }
   ],
   "source": [
    "# visualize the file\n",
    "Image('./images/dot.png')"
   ]
  },
  {
   "cell_type": "markdown",
   "id": "b2053d00-fc6d-41a5-b349-3a8e486a0ede",
   "metadata": {},
   "source": [
    "## ./readme.md: code progression"
   ]
  },
  {
   "cell_type": "code",
   "execution_count": 68,
   "id": "87cebd72-7830-453c-aa9b-4dd4a09bff9f",
   "metadata": {},
   "outputs": [
    {
     "data": {
      "image/svg+xml": [
       "<?xml version=\"1.0\" encoding=\"UTF-8\" standalone=\"no\"?>\n",
       "<!DOCTYPE svg PUBLIC \"-//W3C//DTD SVG 1.1//EN\"\n",
       " \"http://www.w3.org/Graphics/SVG/1.1/DTD/svg11.dtd\">\n",
       "<!-- Generated by graphviz version 2.43.0 (0)\n",
       " -->\n",
       "<!-- Title: %3 Pages: 1 -->\n",
       "<svg width=\"292pt\" height=\"44pt\"\n",
       " viewBox=\"0.00 0.00 292.00 44.00\" xmlns=\"http://www.w3.org/2000/svg\" xmlns:xlink=\"http://www.w3.org/1999/xlink\">\n",
       "<g id=\"graph0\" class=\"graph\" transform=\"scale(1 1) rotate(0) translate(4 40)\">\n",
       "<title>%3</title>\n",
       "<polygon fill=\"white\" stroke=\"transparent\" points=\"-4,4 -4,-40 288,-40 288,4 -4,4\"/>\n",
       "<!-- a1 -->\n",
       "<g id=\"node1\" class=\"node\">\n",
       "<title>a1</title>\n",
       "<path fill=\"#669df6\" stroke=\"#669df6\" stroke-width=\"3\" d=\"M60,-36C60,-36 12,-36 12,-36 6,-36 0,-30 0,-24 0,-24 0,-12 0,-12 0,-6 6,0 12,0 12,0 60,0 60,0 66,0 72,-6 72,-12 72,-12 72,-24 72,-24 72,-30 66,-36 60,-36\"/>\n",
       "<text text-anchor=\"middle\" x=\"36\" y=\"-14.3\" font-family=\"Times,serif\" font-size=\"14.00\">Explore</text>\n",
       "</g>\n",
       "<!-- a2 -->\n",
       "<g id=\"node2\" class=\"node\">\n",
       "<title>a2</title>\n",
       "<path fill=\"#fcc934\" stroke=\"#669df6\" stroke-width=\"3\" d=\"M170,-36C170,-36 120,-36 120,-36 114,-36 108,-30 108,-24 108,-24 108,-12 108,-12 108,-6 114,0 120,0 120,0 170,0 170,0 176,0 182,-6 182,-12 182,-12 182,-24 182,-24 182,-30 176,-36 170,-36\"/>\n",
       "<text text-anchor=\"middle\" x=\"145\" y=\"-14.3\" font-family=\"Times,serif\" font-size=\"14.00\">Develop</text>\n",
       "</g>\n",
       "<!-- a1&#45;&gt;a2 -->\n",
       "<g id=\"edge1\" class=\"edge\">\n",
       "<title>a1&#45;&gt;a2</title>\n",
       "<path fill=\"none\" stroke=\"#669df6\" stroke-width=\"3\" d=\"M72.04,-18C80.18,-18 88.98,-18 97.53,-18\"/>\n",
       "<polygon fill=\"#669df6\" stroke=\"#669df6\" stroke-width=\"3\" points=\"97.78,-21.5 107.78,-18 97.78,-14.5 97.78,-21.5\"/>\n",
       "</g>\n",
       "<!-- a3 -->\n",
       "<g id=\"node3\" class=\"node\">\n",
       "<title>a3</title>\n",
       "<path fill=\"#bdc1c6\" stroke=\"#fcc934\" stroke-width=\"3\" d=\"M272,-36C272,-36 230,-36 230,-36 224,-36 218,-30 218,-24 218,-24 218,-12 218,-12 218,-6 224,0 230,0 230,0 272,0 272,0 278,0 284,-6 284,-12 284,-12 284,-24 284,-24 284,-30 278,-36 272,-36\"/>\n",
       "<text text-anchor=\"middle\" x=\"251\" y=\"-14.3\" font-family=\"Times,serif\" font-size=\"14.00\">Deploy</text>\n",
       "</g>\n",
       "<!-- a2&#45;&gt;a3 -->\n",
       "<g id=\"edge2\" class=\"edge\">\n",
       "<title>a2&#45;&gt;a3</title>\n",
       "<path fill=\"none\" stroke=\"#fcc934\" stroke-width=\"3\" d=\"M182.08,-18C190.34,-18 199.19,-18 207.69,-18\"/>\n",
       "<polygon fill=\"#fcc934\" stroke=\"#fcc934\" stroke-width=\"3\" points=\"207.8,-21.5 217.8,-18 207.8,-14.5 207.8,-21.5\"/>\n",
       "</g>\n",
       "</g>\n",
       "</svg>\n"
      ],
      "text/plain": [
       "<graphviz.graphs.Digraph at 0x7f61d9ae10c0>"
      ]
     },
     "execution_count": 68,
     "metadata": {},
     "output_type": "execute_result"
    }
   ],
   "source": [
    "file = 'code_progression'\n",
    "path = 'images/readme'\n",
    "# Create Digraph object\n",
    "cp = graphviz.Digraph()\n",
    "cp.attr(rankdir = 'LR')\n",
    "\n",
    "# Add nodes\n",
    "cp.node(name = 'a1', label = 'Explore', shape = 'rectangle', style = 'filled,rounded', penwidth = '3', color = gcolors['blue'][4], fillcolor = gcolors['blue'][4])\n",
    "cp.node(name = 'a2', label = 'Develop', shape = 'rectangle', style = 'filled,rounded', penwidth = '3', color = gcolors['blue'][4], fillcolor = gcolors['yellow'][4])\n",
    "cp.node(name = 'a3', label = 'Deploy', shape = 'rectangle', style = 'filled,rounded', penwidth = '3', color = gcolors['yellow'][4], fillcolor = gcolors['grey'][4])\n",
    "\n",
    "# Add edges\n",
    "cp.edge('a1', 'a2', color = gcolors['blue'][4], penwidth = '3')\n",
    "cp.edge('a2', 'a3', color = gcolors['yellow'][4], penwidth = '3')\n",
    "\n",
    "# save to file\n",
    "cp.render(filename = f'{file}', directory = f'./{path}', format = 'png')\n",
    "\n",
    "# Visualize the graph in notebook\n",
    "cp"
   ]
  },
  {
   "cell_type": "code",
   "execution_count": 69,
   "id": "ce7e3afe-cb5e-458d-a204-217727e46ccb",
   "metadata": {},
   "outputs": [
    {
     "data": {
      "image/svg+xml": [
       "<?xml version=\"1.0\" encoding=\"UTF-8\" standalone=\"no\"?>\n",
       "<!DOCTYPE svg PUBLIC \"-//W3C//DTD SVG 1.1//EN\"\n",
       " \"http://www.w3.org/Graphics/SVG/1.1/DTD/svg11.dtd\">\n",
       "<!-- Generated by graphviz version 2.43.0 (0)\n",
       " -->\n",
       "<!-- Title: %3 Pages: 1 -->\n",
       "<svg width=\"366pt\" height=\"44pt\"\n",
       " viewBox=\"0.00 0.00 365.85 44.00\" xmlns=\"http://www.w3.org/2000/svg\" xmlns:xlink=\"http://www.w3.org/1999/xlink\">\n",
       "<g id=\"graph0\" class=\"graph\" transform=\"scale(1 1) rotate(0) translate(4 40)\">\n",
       "<title>%3</title>\n",
       "<polygon fill=\"white\" stroke=\"transparent\" points=\"-4,4 -4,-40 361.85,-40 361.85,4 -4,4\"/>\n",
       "<!-- a1 -->\n",
       "<g id=\"node1\" class=\"node\">\n",
       "<title>a1</title>\n",
       "<path fill=\"#669df6\" stroke=\"#669df6\" stroke-width=\"3\" d=\"M60,-36C60,-36 12,-36 12,-36 6,-36 0,-30 0,-24 0,-24 0,-12 0,-12 0,-6 6,0 12,0 12,0 60,0 60,0 66,0 72,-6 72,-12 72,-12 72,-24 72,-24 72,-30 66,-36 60,-36\"/>\n",
       "<text text-anchor=\"middle\" x=\"36\" y=\"-14.3\" font-family=\"Times,serif\" font-size=\"14.00\">Explore</text>\n",
       "</g>\n",
       "<!-- a2 -->\n",
       "<g id=\"node2\" class=\"node\">\n",
       "<title>a2</title>\n",
       "<path fill=\"#fcc934\" stroke=\"#669df6\" stroke-width=\"3\" d=\"M170,-36C170,-36 120,-36 120,-36 114,-36 108,-30 108,-24 108,-24 108,-12 108,-12 108,-6 114,0 120,0 120,0 170,0 170,0 176,0 182,-6 182,-12 182,-12 182,-24 182,-24 182,-30 176,-36 170,-36\"/>\n",
       "<text text-anchor=\"middle\" x=\"145\" y=\"-14.3\" font-family=\"Times,serif\" font-size=\"14.00\">Develop</text>\n",
       "</g>\n",
       "<!-- a1&#45;&gt;a2 -->\n",
       "<g id=\"edge1\" class=\"edge\">\n",
       "<title>a1&#45;&gt;a2</title>\n",
       "<path fill=\"none\" stroke=\"#669df6\" stroke-width=\"3\" d=\"M72.04,-18C80.18,-18 88.98,-18 97.53,-18\"/>\n",
       "<polygon fill=\"#669df6\" stroke=\"#669df6\" stroke-width=\"3\" points=\"97.78,-21.5 107.78,-18 97.78,-14.5 97.78,-21.5\"/>\n",
       "</g>\n",
       "<!-- m -->\n",
       "<g id=\"node3\" class=\"node\">\n",
       "<title>m</title>\n",
       "<path fill=\"#ee675c\" stroke=\"#ee675c\" stroke-width=\"0\" d=\"M250.98,-22.25C250.98,-22.25 246.18,-22.25 246.18,-22.25 243.78,-22.25 240.64,-24.53 239.9,-26.82 239.9,-26.82 238.4,-31.43 238.4,-31.43 237.67,-33.72 236.19,-33.72 235.45,-31.43 235.45,-31.43 233.95,-26.82 233.95,-26.82 233.21,-24.53 230.08,-22.25 227.67,-22.25 227.67,-22.25 222.87,-22.25 222.87,-22.25 220.47,-22.25 220.01,-20.83 221.95,-19.42 221.95,-19.42 225.85,-16.58 225.85,-16.58 227.79,-15.17 228.99,-11.47 228.25,-9.18 228.25,-9.18 226.75,-4.57 226.75,-4.57 226.01,-2.28 227.21,-1.41 229.15,-2.83 229.15,-2.83 233.05,-5.67 233.05,-5.67 234.99,-7.08 238.87,-7.08 240.81,-5.67 240.81,-5.67 244.7,-2.83 244.7,-2.83 246.64,-1.41 247.84,-2.28 247.1,-4.57 247.1,-4.57 245.61,-9.18 245.61,-9.18 244.87,-11.47 246.07,-15.17 248.01,-16.58 248.01,-16.58 251.9,-19.42 251.9,-19.42 253.84,-20.83 253.38,-22.25 250.98,-22.25\"/>\n",
       "</g>\n",
       "<!-- a2&#45;&gt;m -->\n",
       "<g id=\"edge2\" class=\"edge\">\n",
       "<title>a2&#45;&gt;m</title>\n",
       "<path fill=\"none\" stroke=\"#fcc934\" stroke-width=\"3\" d=\"M182.06,-18C196.91,-18 213.12,-18 223.83,-18\"/>\n",
       "</g>\n",
       "<!-- a3 -->\n",
       "<g id=\"node4\" class=\"node\">\n",
       "<title>a3</title>\n",
       "<path fill=\"#bdc1c6\" stroke=\"#fcc934\" stroke-width=\"3\" d=\"M345.85,-36C345.85,-36 303.85,-36 303.85,-36 297.85,-36 291.85,-30 291.85,-24 291.85,-24 291.85,-12 291.85,-12 291.85,-6 297.85,0 303.85,0 303.85,0 345.85,0 345.85,0 351.85,0 357.85,-6 357.85,-12 357.85,-12 357.85,-24 357.85,-24 357.85,-30 351.85,-36 345.85,-36\"/>\n",
       "<text text-anchor=\"middle\" x=\"324.85\" y=\"-14.3\" font-family=\"Times,serif\" font-size=\"14.00\">Deploy</text>\n",
       "</g>\n",
       "<!-- m&#45;&gt;a3 -->\n",
       "<g id=\"edge3\" class=\"edge\">\n",
       "<title>m&#45;&gt;a3</title>\n",
       "<path fill=\"none\" stroke=\"#fcc934\" stroke-width=\"3\" d=\"M250.24,-18C258.48,-18 269.86,-18 281.22,-18\"/>\n",
       "<polygon fill=\"#fcc934\" stroke=\"#fcc934\" stroke-width=\"3\" points=\"281.54,-21.5 291.54,-18 281.54,-14.5 281.54,-21.5\"/>\n",
       "</g>\n",
       "</g>\n",
       "</svg>\n"
      ],
      "text/plain": [
       "<graphviz.graphs.Digraph at 0x7f6205234cd0>"
      ]
     },
     "execution_count": 69,
     "metadata": {},
     "output_type": "execute_result"
    }
   ],
   "source": [
    "file = 'code_progression_star'\n",
    "path = 'images/readme'\n",
    "# Create Digraph object\n",
    "cp = graphviz.Digraph()\n",
    "cp.attr(rankdir = 'LR')\n",
    "\n",
    "# Add nodes\n",
    "cp.node(name = 'a1', label = 'Explore', shape = 'rectangle', style = 'filled,rounded', penwidth = '3', color = gcolors['blue'][4], fillcolor = gcolors['blue'][4])\n",
    "cp.node(name = 'a2', label = 'Develop', shape = 'rectangle', style = 'filled,rounded', penwidth = '3', color = gcolors['blue'][4], fillcolor = gcolors['yellow'][4])\n",
    "cp.node(name = 'm', label = '', shape = 'star', style = 'filled,rounded', penwidth = '0', color = gcolors['red'][4], fillcolor = gcolors['red'][4], fixedsize = 'True', width = '.5', height = '.5')\n",
    "cp.node(name = 'a3', label = 'Deploy', shape = 'rectangle', style = 'filled,rounded', penwidth = '3', color = gcolors['yellow'][4], fillcolor = gcolors['grey'][4])\n",
    "\n",
    "# Add edges\n",
    "cp.edge('a1', 'a2', color = gcolors['blue'][4], penwidth = '3')\n",
    "cp.edge('a2', 'm', color = gcolors['yellow'][4], penwidth = '3', arrowhead = 'none')\n",
    "cp.edge('m', 'a3', color = gcolors['yellow'][4], penwidth = '3')\n",
    "#cp.edge('a2', 'a3', color = gcolors['blue'][4], penwidth = '3')\n",
    "\n",
    "# save to file\n",
    "cp.render(filename = f'{file}', directory = f'./{path}', format = 'png')\n",
    "\n",
    "# Visualize the graph in notebook\n",
    "cp"
   ]
  },
  {
   "cell_type": "code",
   "execution_count": null,
   "id": "e5e75f61-03e9-4d5e-b5de-6ad1699c38d5",
   "metadata": {},
   "outputs": [],
   "source": []
  }
 ],
 "metadata": {
  "environment": {
   "kernel": "python3",
   "name": "tf2-gpu.2-12.m110",
   "type": "gcloud",
   "uri": "gcr.io/deeplearning-platform-release/tf2-gpu.2-12:m110"
  },
  "kernelspec": {
   "display_name": "Python 3",
   "language": "python",
   "name": "python3"
  },
  "language_info": {
   "codemirror_mode": {
    "name": "ipython",
    "version": 3
   },
   "file_extension": ".py",
   "mimetype": "text/x-python",
   "name": "python",
   "nbconvert_exporter": "python",
   "pygments_lexer": "ipython3",
   "version": "3.10.12"
  }
 },
 "nbformat": 4,
 "nbformat_minor": 5
}
