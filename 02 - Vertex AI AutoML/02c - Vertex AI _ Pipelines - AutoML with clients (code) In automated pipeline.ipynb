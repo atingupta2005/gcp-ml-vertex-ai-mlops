{
 "cells": [
  {
   "cell_type": "markdown",
   "id": "3cebabe4",
   "metadata": {},
   "source": [
    "![ga4](https://www.google-analytics.com/collect?v=2&tid=G-6VDTYWLKX6&cid=1&en=page_view&sid=1&dl=statmike%2Fvertex-ai-mlops%2F02+-+Vertex+AI+AutoML&dt=02c+-+Vertex+AI+%3E+Pipelines+-+AutoML+with+clients+%28code%29+In+automated+pipeline.ipynb)\n",
    "\n",
    "# 02c - Vertex AI > Pipelines - AutoML with clients (code) In automated pipeline\n",
    "\n",
    "Use[ Kubeflow](https://www.kubeflow.org/) Pipelines running on [Vertex AI Pipelines](https://cloud.google.com/vertex-ai/docs/pipelines/introduction) to orchestrate the process of training a custom model with AutoML Tabular and deploy it to a Vertex AI Endpoint for serving (online and batch) predictions and explanations.  This demonstrates how to automate the processes of (02a) or (02b) with pipeline orchestration.\n",
    "\n",
    "### Prerequisites:\n",
    "-  01 -  BigQuery - Table Data Source\n",
    "\n",
    "### Resources:\n",
    "-  [Vertex AI Pipelines](https://cloud.google.com/vertex-ai/docs/pipelines/build-pipeline#google-cloud-components) see aiplatform.PipelineJob\n",
    "-  [Python Client for Vertex AI](https://googleapis.dev/python/aiplatform/latest/aiplatform.html)\n",
    "-  [Kubeflow Pipelines Components for Google Cloud](https://github.com/kubeflow/pipelines/tree/master/components/google-cloud)\n",
    "\n",
    "### Related Training:\n",
    "-  Codelab: [Vertex AI Pipelines Introduction](https://codelabs.developers.google.com/vertex-mlmd-pipelines#0)\n",
    "\n",
    "### Conceptual Flow & Workflow\n",
    "<p align=\"center\">\n",
    "  <img alt=\"Conceptual Flow\" src=\"../architectures/slides/02c_arch.png\" width=\"45%\">\n",
    "&nbsp; &nbsp; &nbsp; &nbsp;\n",
    "  <img alt=\"Workflow\" src=\"../architectures/slides/02c_console.png\" width=\"45%\">\n",
    "</p>"
   ]
  },
  {
   "cell_type": "markdown",
   "id": "229cef71",
   "metadata": {},
   "source": [
    "---\n",
    "## Setup"
   ]
  },
  {
   "cell_type": "markdown",
   "id": "4b6b82e4",
   "metadata": {},
   "source": [
    "inputs:"
   ]
  },
  {
   "cell_type": "code",
   "execution_count": null,
   "id": "63e4ffbd-4d77-4074-b84a-a9a10fe0b606",
   "metadata": {},
   "outputs": [],
   "source": [
    "project = !gcloud config get-value project\n",
    "PROJECT_ID = project[0]\n",
    "PROJECT_ID"
   ]
  },
  {
   "cell_type": "code",
   "execution_count": null,
   "id": "b255bf32",
   "metadata": {},
   "outputs": [],
   "source": [
    "REGION = 'us-central1'\n",
    "DATANAME = 'fraud'\n",
    "NOTEBOOK = '02c'\n",
    "\n",
    "# Resources\n",
    "DEPLOY_COMPUTE = 'n1-standard-2'\n",
    "\n",
    "# Model Training\n",
    "VAR_TARGET = 'Class'\n",
    "VAR_OMIT = 'transaction_id' # add more variables to the string with space delimiters"
   ]
  },
  {
   "cell_type": "markdown",
   "id": "00693f36",
   "metadata": {},
   "source": [
    "packages:"
   ]
  },
  {
   "cell_type": "code",
   "execution_count": null,
   "id": "d1e6b18c-6deb-41dc-a632-8b305705eeec",
   "metadata": {},
   "outputs": [],
   "source": [
    "#!pip install -U google-cloud-pipeline-components -U -q"
   ]
  },
  {
   "cell_type": "code",
   "execution_count": null,
   "id": "f3bf8620",
   "metadata": {},
   "outputs": [],
   "source": [
    "from google.cloud import aiplatform\n",
    "from datetime import datetime\n",
    "import kfp\n",
    "from kfp.v2 import compiler\n",
    "#import kfp.v2.dsl as dsl\n",
    "#import google_cloud_pipeline_components as gcc_aip\n",
    "from google_cloud_pipeline_components.v1.dataset import TabularDatasetCreateOp\n",
    "from google_cloud_pipeline_components.v1.automl.training_job import AutoMLTabularTrainingJobRunOp\n",
    "from google_cloud_pipeline_components.v1.endpoint import EndpointCreateOp, ModelDeployOp\n",
    "\n",
    "from google.cloud import bigquery\n",
    "from google.protobuf import json_format\n",
    "from google.protobuf.struct_pb2 import Value\n",
    "import json\n",
    "import numpy as np"
   ]
  },
  {
   "cell_type": "markdown",
   "id": "b01a4860",
   "metadata": {},
   "source": [
    "clients:"
   ]
  },
  {
   "cell_type": "code",
   "execution_count": null,
   "id": "d0f88c50",
   "metadata": {},
   "outputs": [],
   "source": [
    "aiplatform.init(project=PROJECT_ID, location=REGION)\n",
    "bq = bigquery.Client()"
   ]
  },
  {
   "cell_type": "markdown",
   "id": "8d14fbbc",
   "metadata": {},
   "source": [
    "parameters:"
   ]
  },
  {
   "cell_type": "code",
   "execution_count": null,
   "id": "f65b2223",
   "metadata": {},
   "outputs": [],
   "source": [
    "TIMESTAMP = datetime.now().strftime(\"%Y%m%d%H%M%S\")\n",
    "BUCKET = PROJECT_ID\n",
    "URI = f\"gs://{BUCKET}/{DATANAME}/models/{NOTEBOOK}\"\n",
    "DIR = f\"temp/{NOTEBOOK}\""
   ]
  },
  {
   "cell_type": "code",
   "execution_count": null,
   "id": "2c68630e-4fe3-473d-abb3-16d39fb782e8",
   "metadata": {},
   "outputs": [],
   "source": [
    "SERVICE_ACCOUNT = !gcloud config list --format='value(core.account)' \n",
    "SERVICE_ACCOUNT = SERVICE_ACCOUNT[0]\n",
    "SERVICE_ACCOUNT"
   ]
  },
  {
   "cell_type": "markdown",
   "id": "d1d35908-9b69-40be-97dc-fb4fb0279709",
   "metadata": {},
   "source": [
    "List the service accounts current roles:"
   ]
  },
  {
   "cell_type": "code",
   "execution_count": null,
   "id": "a9f46306-bd55-425a-951a-fd2753807b91",
   "metadata": {},
   "outputs": [],
   "source": [
    "!gcloud projects get-iam-policy $PROJECT_ID --filter=\"bindings.members:$SERVICE_ACCOUNT\" --format='table(bindings.role)' --flatten=\"bindings[].members\""
   ]
  },
  {
   "cell_type": "markdown",
   "id": "e8343a71-3484-4352-9753-ec045cb6dfc5",
   "metadata": {},
   "source": [
    ">Note: If the resulting list is missing [roles/storage.objectAdmin](https://cloud.google.com/storage/docs/access-control/iam-roles) then [revisit the setup notebook](../00%20-%20Setup/00%20-%20Environment%20Setup.ipynb#permissions) and add this permission to the service account with the provided instructions."
   ]
  },
  {
   "cell_type": "markdown",
   "id": "10f15187",
   "metadata": {},
   "source": [
    "environment:"
   ]
  },
  {
   "cell_type": "code",
   "execution_count": null,
   "id": "f7383876",
   "metadata": {},
   "outputs": [],
   "source": [
    "!rm -rf {DIR}\n",
    "!mkdir -p {DIR}"
   ]
  },
  {
   "cell_type": "markdown",
   "id": "c08c3499",
   "metadata": {},
   "source": [
    "---\n",
    "## Pipeline (KFP) Definition\n",
    "- Flow\n",
    "    - Create Vertex AI Dataset from link to BigQuery table\n",
    "    - Create Vertex AI AutoML Tabular Training Job\n",
    "    - Create Endpoint and Depoy trained model\n",
    "    \n",
    "Use [AI Platform Pipeline Components](https://google-cloud-pipeline-components.readthedocs.io/en/google-cloud-pipeline-components-0.2.0/)\n",
    "- Specifically, [AutoMLTabularTrainingJobRunOp](https://google-cloud-pipeline-components.readthedocs.io/en/google-cloud-pipeline-components-0.2.0/google_cloud_pipeline_components.aiplatform.html#google_cloud_pipeline_components.aiplatform.AutoMLTabularTrainingJobRunOp)\n",
    "\n",
    "Define a Job:\n",
    "- Consider Weighting\n",
    "- Model Type\n",
    "- Optimization Objective"
   ]
  },
  {
   "cell_type": "code",
   "execution_count": null,
   "id": "eb85abc1",
   "metadata": {},
   "outputs": [],
   "source": [
    "@kfp.dsl.pipeline(\n",
    "    name = f'kfp-{NOTEBOOK}-{DATANAME}-{TIMESTAMP}',\n",
    "    pipeline_root = URI+'/'+str(TIMESTAMP)+'/kfp/'\n",
    ")\n",
    "def pipeline(\n",
    "    project: str,\n",
    "    dataname: str,\n",
    "    display_name: str,\n",
    "    deploy_machine: str,\n",
    "    bq_source: str,\n",
    "    var_target: str,\n",
    "    var_omit: str,\n",
    "    features: dict,\n",
    "    labels: dict \n",
    "):\n",
    "    \n",
    "    # dataset\n",
    "    dataset = TabularDatasetCreateOp(\n",
    "        project = project,\n",
    "        display_name = display_name,\n",
    "        bq_source = bq_source,\n",
    "        labels = labels\n",
    "    )\n",
    "    \n",
    "    # training\n",
    "    model = AutoMLTabularTrainingJobRunOp(\n",
    "        project = project,\n",
    "        display_name = display_name,\n",
    "        optimization_prediction_type = \"classification\",\n",
    "        optimization_objective = \"maximize-au-prc\",\n",
    "        budget_milli_node_hours = 1000,\n",
    "        disable_early_stopping=False,\n",
    "        column_specs = features,\n",
    "        dataset = dataset.outputs['dataset'],\n",
    "        target_column = var_target,\n",
    "        predefined_split_column_name = 'splits',\n",
    "        labels = labels\n",
    "    )\n",
    "    \n",
    "    # Endpoint: Creation\n",
    "    endpoint = EndpointCreateOp(\n",
    "        project = project,\n",
    "        display_name = display_name,\n",
    "        labels = labels\n",
    "    )\n",
    "    \n",
    "    # Endpoint: Deployment of Model\n",
    "    deployment = ModelDeployOp(\n",
    "        model = model.outputs[\"model\"],\n",
    "        endpoint = endpoint.outputs[\"endpoint\"],\n",
    "        dedicated_resources_min_replica_count = 1,\n",
    "        dedicated_resources_max_replica_count = 1,\n",
    "        traffic_split = {\"0\": 100},\n",
    "        dedicated_resources_machine_type= deploy_machine\n",
    "    )"
   ]
  },
  {
   "cell_type": "markdown",
   "id": "4bd7cda6",
   "metadata": {},
   "source": [
    "---\n",
    "## Compile Pipeline"
   ]
  },
  {
   "cell_type": "code",
   "execution_count": null,
   "id": "db3e8ce2",
   "metadata": {},
   "outputs": [],
   "source": [
    "compiler.Compiler().compile(\n",
    "    pipeline_func = pipeline,\n",
    "    package_path = f\"{DIR}/{NOTEBOOK}.json\"\n",
    ")"
   ]
  },
  {
   "cell_type": "markdown",
   "id": "72d3a04e",
   "metadata": {},
   "source": [
    "Move compiled pipeline files to GCS Bucket"
   ]
  },
  {
   "cell_type": "code",
   "execution_count": null,
   "id": "671d4cbe",
   "metadata": {},
   "outputs": [],
   "source": [
    "!gsutil cp {DIR}/{NOTEBOOK}.json {URI}/{TIMESTAMP}/kfp/"
   ]
  },
  {
   "cell_type": "markdown",
   "id": "45241ff1",
   "metadata": {},
   "source": [
    "---\n",
    "## Create Vertex AI Pipeline Job"
   ]
  },
  {
   "cell_type": "markdown",
   "id": "9fed3319-fac1-45bb-9483-e02cfd4e0e3e",
   "metadata": {},
   "source": [
    "Get features dictionary for the pipeline input:"
   ]
  },
  {
   "cell_type": "code",
   "execution_count": null,
   "id": "0ad629ff-3843-4e54-8a80-27bd7bb20cb7",
   "metadata": {},
   "outputs": [],
   "source": [
    "# get feature names\n",
    "query = f\"SELECT * FROM {DATANAME}.INFORMATION_SCHEMA.COLUMNS WHERE TABLE_NAME = '{DATANAME}_prepped'\"\n",
    "schema = bq.query(query).to_dataframe()\n",
    "OMIT = VAR_OMIT.split() + [VAR_TARGET, 'splits']\n",
    "features = schema[~schema.column_name.isin(OMIT)].column_name.tolist()\n",
    "features = dict.fromkeys(features, 'auto')"
   ]
  },
  {
   "cell_type": "markdown",
   "id": "0adf1a54-05f1-48f9-99e5-3de1c8f40bd5",
   "metadata": {},
   "source": [
    "Run The pipeline:"
   ]
  },
  {
   "cell_type": "code",
   "execution_count": null,
   "id": "f5dd3e4c",
   "metadata": {},
   "outputs": [],
   "source": [
    "pipeline = aiplatform.PipelineJob(\n",
    "    display_name = f'{NOTEBOOK}_{DATANAME}_{TIMESTAMP}',\n",
    "    template_path = f\"{URI}/{TIMESTAMP}/kfp/{NOTEBOOK}.json\",\n",
    "    parameter_values = {\n",
    "        \"project\" : PROJECT_ID,\n",
    "        \"dataname\" : DATANAME,\n",
    "        \"display_name\" : f'{NOTEBOOK}_{DATANAME}_{TIMESTAMP}',\n",
    "        \"deploy_machine\" : DEPLOY_COMPUTE,\n",
    "        \"bq_source\" : f'bq://{PROJECT_ID}.{DATANAME}.{DATANAME}_prepped',\n",
    "        \"var_target\" : VAR_TARGET,\n",
    "        \"var_omit\" : VAR_OMIT,\n",
    "        \"features\" : features,\n",
    "        \"labels\" : {'notebook': NOTEBOOK}       \n",
    "    },\n",
    "    labels = {'notebook': NOTEBOOK},\n",
    "    enable_caching=False\n",
    ")"
   ]
  },
  {
   "cell_type": "code",
   "execution_count": null,
   "id": "5ee521df",
   "metadata": {
    "scrolled": true,
    "tags": []
   },
   "outputs": [],
   "source": [
    "response = pipeline.run(\n",
    "    service_account = SERVICE_ACCOUNT\n",
    ")"
   ]
  },
  {
   "cell_type": "markdown",
   "id": "6e4c8e67-bceb-4629-a246-6a6f18a1c530",
   "metadata": {},
   "source": [
    "Visual Representation of the pipeline can be viewed in the colsole:"
   ]
  },
  {
   "cell_type": "code",
   "execution_count": null,
   "id": "bd262fe9-0693-446a-be88-779e15fb0809",
   "metadata": {},
   "outputs": [],
   "source": [
    "print(f\"Review the Pipeline as it runs here:\\nhttps://console.cloud.google.com/vertex-ai/locations/{REGION}/pipelines/runs/{pipeline.resource_name.split('/')[-1]}?project={PROJECT_ID}\")"
   ]
  },
  {
   "cell_type": "markdown",
   "id": "9d982aa6-2999-47f6-92a0-01510050e681",
   "metadata": {},
   "source": [
    "Retrieve the pipeline information:"
   ]
  },
  {
   "cell_type": "code",
   "execution_count": null,
   "id": "29ff7495",
   "metadata": {},
   "outputs": [],
   "source": [
    "aiplatform.get_pipeline_df(pipeline = f'kfp-{NOTEBOOK}-{DATANAME}-{TIMESTAMP}')"
   ]
  },
  {
   "cell_type": "markdown",
   "id": "0523ffaa-9dfb-41cb-b7b5-6cc6ddae1613",
   "metadata": {
    "tags": []
   },
   "source": [
    "---\n",
    "## Evaluation\n",
    "While the model above was trained using AutoML with the API, it is still possible to review the evaluation metrics directly in the Google Cloud Console.  Just visit the Models section of Vertex AI service and select the model and it will present the evaluation metrics with many helpful visuals.\n",
    "\n",
    "It is also possible to retrieve the evaluation metrics for you model using the API. \n",
    "\n",
    "For more information review [this page](https://cloud.google.com/vertex-ai/docs/training/evaluating-automl-models)."
   ]
  },
  {
   "cell_type": "markdown",
   "id": "27b1c3f1",
   "metadata": {},
   "source": [
    "Get the Model:"
   ]
  },
  {
   "cell_type": "code",
   "execution_count": null,
   "id": "b6634c0d",
   "metadata": {},
   "outputs": [],
   "source": [
    "models = aiplatform.Model.list(filter=f'labels.notebook={NOTEBOOK}')"
   ]
  },
  {
   "cell_type": "code",
   "execution_count": null,
   "id": "a4f7b61b-ad0f-487b-8dc6-ac8ed12e6afb",
   "metadata": {},
   "outputs": [],
   "source": [
    "model = models[0]\n",
    "model.resource_name"
   ]
  },
  {
   "cell_type": "markdown",
   "id": "71227e04-8bb0-46d5-862e-3fddfe0361ae",
   "metadata": {},
   "source": [
    "Retrives the aggregate model evalution metrics for the model as a whole.  \n",
    "\n",
    "Either:\n",
    "- First, use `model.list_model_evaluations()` to retrieve the evaluation id, then use `model.get_model_evaluation(evaluation_id = )` for the evaluation id\n",
    "- Or, use `.get_model_evaluation()` and it will retrieve the first model evaluation"
   ]
  },
  {
   "cell_type": "code",
   "execution_count": null,
   "id": "b7b5d7e0-6ef5-4787-a5d0-953848318989",
   "metadata": {},
   "outputs": [],
   "source": [
    "evaluation = model.get_model_evaluation().to_dict() # get first evaluation"
   ]
  },
  {
   "cell_type": "code",
   "execution_count": null,
   "id": "35848c5d-d9af-4109-abd5-f093adba2acc",
   "metadata": {},
   "outputs": [],
   "source": [
    "evaluation.keys()"
   ]
  },
  {
   "cell_type": "code",
   "execution_count": null,
   "id": "1763abbd-d2f4-430a-9a03-9e5af413b82a",
   "metadata": {},
   "outputs": [],
   "source": [
    "evaluation['metrics'].keys()"
   ]
  },
  {
   "cell_type": "code",
   "execution_count": null,
   "id": "a562dcf6-02af-4185-96be-5b8b77a5cfd7",
   "metadata": {},
   "outputs": [],
   "source": [
    "evaluation['metrics']['auPrc']"
   ]
  },
  {
   "cell_type": "code",
   "execution_count": null,
   "id": "45bd1c4b-00a3-4b2c-95a0-bb837307f8a0",
   "metadata": {},
   "outputs": [],
   "source": [
    "evaluation['metrics']['confidenceMetrics'][3]"
   ]
  },
  {
   "cell_type": "markdown",
   "id": "39aa9551-2e4a-4673-b0d5-1ddec1233e0e",
   "metadata": {},
   "source": [
    "Review several of the metrics included in the evaluation.  Also, compare these to the results in the console view."
   ]
  },
  {
   "cell_type": "code",
   "execution_count": null,
   "id": "bedd8a0e-cb68-4c45-bb58-c8622b9b0a96",
   "metadata": {},
   "outputs": [],
   "source": [
    "print(f\"Review this model in the console:\\nhttps://console.cloud.google.com/vertex-ai/locations/{REGION}/models/{model.name}/versions/{model.version_id}/evaluations/{evaluation['name'].split('/')[-1]}?project={PROJECT_ID}\")"
   ]
  },
  {
   "cell_type": "code",
   "execution_count": null,
   "id": "8dd6e04f-c0ec-4ad1-a8be-460cddcb0267",
   "metadata": {},
   "outputs": [],
   "source": [
    "evaluation['metrics']['auPrc']"
   ]
  },
  {
   "cell_type": "code",
   "execution_count": null,
   "id": "edd9892b-eeac-4a64-aa9b-68a7a45a3e76",
   "metadata": {},
   "outputs": [],
   "source": [
    "for i in range(len(evaluation['metrics']['confusionMatrix']['annotationSpecs'])):\n",
    "    print('True Label = ', evaluation['metrics']['confusionMatrix']['annotationSpecs'][i]['displayName'], ' has Predicted labels = ', evaluation['metrics']['confusionMatrix']['rows'][i])"
   ]
  },
  {
   "cell_type": "markdown",
   "id": "2266afe6-be3f-4565-afd9-cb839682df2c",
   "metadata": {},
   "source": [
    "For models with labels you can retrieve the evaluation metrics for each slice of the model as well using the .gapic api version:"
   ]
  },
  {
   "cell_type": "code",
   "execution_count": null,
   "id": "703ce330-8b74-44ff-a71f-f7670a1d924f",
   "metadata": {},
   "outputs": [],
   "source": [
    "model_client = aiplatform.gapic.ModelServiceClient(\n",
    "    client_options = {\n",
    "        'api_endpoint' : f'{REGION}-aiplatform.googleapis.com'\n",
    "    }\n",
    ")"
   ]
  },
  {
   "cell_type": "code",
   "execution_count": null,
   "id": "045a6f0d-ab29-4825-a29e-335f5a1727e1",
   "metadata": {},
   "outputs": [],
   "source": [
    "slices = model_client.list_model_evaluation_slices(parent = evaluation['name'])"
   ]
  },
  {
   "cell_type": "code",
   "execution_count": null,
   "id": "4b7b5c5a-d43c-4c77-8806-fa92f6438e19",
   "metadata": {},
   "outputs": [],
   "source": [
    "for slice in slices:\n",
    "    print('Label = ', slice.slice_.value, 'has auPrc = ', slice.metrics['auPrc'])"
   ]
  },
  {
   "cell_type": "markdown",
   "id": "3829782e",
   "metadata": {},
   "source": [
    "---\n",
    "## Prediction"
   ]
  },
  {
   "cell_type": "markdown",
   "id": "0269e25d",
   "metadata": {},
   "source": [
    "### Prepare a record for prediction: instance and parameters lists"
   ]
  },
  {
   "cell_type": "code",
   "execution_count": null,
   "id": "5bda8542",
   "metadata": {},
   "outputs": [],
   "source": [
    "pred = bq.query(\n",
    "    query = f\"\"\"\n",
    "        SELECT * EXCEPT({VAR_TARGET}, splits, {VAR_OMIT})\n",
    "        FROM {DATANAME}.{DATANAME}_prepped\n",
    "        WHERE splits='TEST'\n",
    "        LIMIT 10\n",
    "    \"\"\"\n",
    ").to_dataframe()"
   ]
  },
  {
   "cell_type": "code",
   "execution_count": null,
   "id": "bb5a77b7",
   "metadata": {},
   "outputs": [],
   "source": [
    "pred.head(4)"
   ]
  },
  {
   "cell_type": "code",
   "execution_count": null,
   "id": "4c32ed6b",
   "metadata": {},
   "outputs": [],
   "source": [
    "pred['Time'] = pred['Time'].astype(str)\n",
    "newobs = pred.to_dict(orient='records')\n",
    "newobs[0]"
   ]
  },
  {
   "cell_type": "markdown",
   "id": "c2fde74e",
   "metadata": {},
   "source": [
    "Need to understand the format of variables that the predictions expect.  AutoML may convert the type of some variables. The following cells retrieve the model from the endpoint and its schemata:"
   ]
  },
  {
   "cell_type": "code",
   "execution_count": null,
   "id": "d438383e",
   "metadata": {},
   "outputs": [],
   "source": [
    "instances = [json_format.ParseDict(newob, Value()) for newob in newobs]"
   ]
  },
  {
   "cell_type": "markdown",
   "id": "ec61f206",
   "metadata": {},
   "source": [
    "### Get Predictions: Python Client"
   ]
  },
  {
   "cell_type": "code",
   "execution_count": null,
   "id": "116fefd9-e7c7-4971-8e6b-d630469f2330",
   "metadata": {},
   "outputs": [],
   "source": [
    "aiplatform.Endpoint.list(filter=f'labels.notebook={NOTEBOOK}')"
   ]
  },
  {
   "cell_type": "code",
   "execution_count": null,
   "id": "279cf479",
   "metadata": {},
   "outputs": [],
   "source": [
    "endpoint = aiplatform.Endpoint.list(filter=f'labels.notebook={NOTEBOOK}')[0]\n",
    "endpoint.display_name"
   ]
  },
  {
   "cell_type": "code",
   "execution_count": null,
   "id": "c7c298d5",
   "metadata": {},
   "outputs": [],
   "source": [
    "prediction = endpoint.predict(instances = instances) # or instances = newobs\n",
    "prediction.predictions[0]"
   ]
  },
  {
   "cell_type": "code",
   "execution_count": null,
   "id": "1323d595",
   "metadata": {},
   "outputs": [],
   "source": [
    "prediction.predictions[0]['classes'][np.argmax(prediction.predictions[0]['scores'])]"
   ]
  },
  {
   "cell_type": "markdown",
   "id": "f68781f2",
   "metadata": {},
   "source": [
    "### Get Predictions: REST"
   ]
  },
  {
   "cell_type": "code",
   "execution_count": null,
   "id": "f6b3a5b9",
   "metadata": {},
   "outputs": [],
   "source": [
    "with open(f'{DIR}/request.json','w') as file:\n",
    "    file.write(json.dumps({\"instances\": [newobs[0]]}))"
   ]
  },
  {
   "cell_type": "code",
   "execution_count": null,
   "id": "6e7b1b91",
   "metadata": {},
   "outputs": [],
   "source": [
    "!curl -X POST \\\n",
    "-H \"Authorization: Bearer \"$(gcloud auth application-default print-access-token) \\\n",
    "-H \"Content-Type: application/json; charset=utf-8\" \\\n",
    "-d @{DIR}/request.json \\\n",
    "https://{REGION}-aiplatform.googleapis.com/v1/{endpoint.resource_name}:predict"
   ]
  },
  {
   "cell_type": "markdown",
   "id": "7b428c9d",
   "metadata": {},
   "source": [
    "### Get Predictions: gcloud (CLI)"
   ]
  },
  {
   "cell_type": "code",
   "execution_count": null,
   "id": "d3523017",
   "metadata": {},
   "outputs": [],
   "source": [
    "!gcloud beta ai endpoints predict {endpoint.name.rsplit('/',1)[-1]} --region={REGION} --json-request={DIR}/request.json"
   ]
  },
  {
   "cell_type": "markdown",
   "id": "3d0d825b",
   "metadata": {},
   "source": [
    "---\n",
    "## Explanations\n",
    "Interpretation Guide\n",
    "- https://cloud.google.com/vertex-ai/docs/predictions/interpreting-results-automl#tabular"
   ]
  },
  {
   "cell_type": "code",
   "execution_count": null,
   "id": "80280fc8",
   "metadata": {},
   "outputs": [],
   "source": [
    "explanation = endpoint.explain(instances = instances)"
   ]
  },
  {
   "cell_type": "code",
   "execution_count": null,
   "id": "6b2a6912",
   "metadata": {},
   "outputs": [],
   "source": [
    "explanation.predictions[0]"
   ]
  },
  {
   "cell_type": "code",
   "execution_count": null,
   "id": "a862b22a",
   "metadata": {},
   "outputs": [],
   "source": [
    "print(\"attribution:\")\n",
    "print(\"baseline output\",explanation.explanations[0].attributions[0].baseline_output_value)\n",
    "print(\"instance output\",explanation.explanations[0].attributions[0].instance_output_value)\n",
    "print(\"output_index\",explanation.explanations[0].attributions[0].output_index)\n",
    "print(\"output display value\",explanation.explanations[0].attributions[0].output_display_name)\n",
    "print(\"approximation error\",explanation.explanations[0].attributions[0].approximation_error)"
   ]
  },
  {
   "cell_type": "code",
   "execution_count": null,
   "id": "6afdc889-9620-4e5c-adf9-5ecf2238ad75",
   "metadata": {},
   "outputs": [],
   "source": [
    "import matplotlib.pyplot as plt\n",
    "features = []\n",
    "scores = []\n",
    "for k in explanation.explanations[0].attributions[0].feature_attributions:\n",
    "    features.append(k)\n",
    "    scores.append(explanation.explanations[0].attributions[0].feature_attributions[k])\n",
    "features = [x for _, x in sorted(zip(scores, features))]\n",
    "scores = sorted(scores)\n",
    "fig, ax = plt.subplots()\n",
    "fig.set_size_inches(9, 9)\n",
    "ax.barh(features, scores)\n",
    "fig.show()"
   ]
  },
  {
   "cell_type": "markdown",
   "id": "1a12e906",
   "metadata": {},
   "source": [
    "---\n",
    "## Batch Predictions: BigQuery Source to BigQuery Destination, with Explanations"
   ]
  },
  {
   "cell_type": "code",
   "execution_count": null,
   "id": "7145bae3",
   "metadata": {},
   "outputs": [],
   "source": [
    "batch = aiplatform.BatchPredictionJob.create(\n",
    "    job_display_name = f'{NOTEBOOK}_{DATANAME}_{TIMESTAMP}',\n",
    "    model_name = endpoint.list_models()[0].model,\n",
    "    instances_format = \"bigquery\",\n",
    "    predictions_format = \"bigquery\",\n",
    "    bigquery_source = f'bq://{PROJECT_ID}.{DATANAME}.{DATANAME}_prepped',\n",
    "    bigquery_destination_prefix = f\"{PROJECT_ID}\",\n",
    "    generate_explanation=True,\n",
    "    labels = {'notebook':f'{NOTEBOOK}'}\n",
    ")"
   ]
  },
  {
   "cell_type": "markdown",
   "id": "4022b5bd",
   "metadata": {},
   "source": [
    "---\n",
    "## Remove Resources\n",
    "see notebook \"99 - Cleanup\""
   ]
  }
 ],
 "metadata": {
  "environment": {
   "kernel": "python3",
   "name": "tf2-gpu.2-11.m104",
   "type": "gcloud",
   "uri": "gcr.io/deeplearning-platform-release/tf2-gpu.2-11:m104"
  },
  "kernelspec": {
   "display_name": "Python 3 (ipykernel)",
   "language": "python",
   "name": "python3"
  },
  "language_info": {
   "codemirror_mode": {
    "name": "ipython",
    "version": 3
   },
   "file_extension": ".py",
   "mimetype": "text/x-python",
   "name": "python",
   "nbconvert_exporter": "python",
   "pygments_lexer": "ipython3",
   "version": "3.9.7"
  }
 },
 "nbformat": 4,
 "nbformat_minor": 5
}
